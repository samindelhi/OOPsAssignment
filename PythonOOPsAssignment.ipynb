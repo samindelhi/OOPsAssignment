{
  "nbformat": 4,
  "nbformat_minor": 0,
  "metadata": {
    "colab": {
      "provenance": [],
      "toc_visible": true
    },
    "kernelspec": {
      "name": "python3",
      "display_name": "Python 3"
    },
    "language_info": {
      "name": "python"
    }
  },
  "cells": [
    {
      "cell_type": "markdown",
      "source": [
        "# Python OOPs Theory Questions"
      ],
      "metadata": {
        "id": "umUgTINePyK-"
      }
    },
    {
      "cell_type": "markdown",
      "source": [
        "\n",
        "\n",
        "1. What is Object-Oriented Programming (OOP)\n",
        "  - Object-Oriented Programming (OOP) is a programming paradigm based on the concept of objects, which can contain data (attributes) and methods (functions). It emphasizes encapsulation, inheritance, polymorphism, and abstraction for better code organization and reusability.\n",
        "\n",
        "2. What is a class in OOP\n",
        "  - A class is a blueprint or a template for creating objects. It defines attributes (variables) and methods (functions) that the objects will have.\n",
        "\n",
        "3. What is an object in OOP\n",
        "  - An object is an instance of a class that holds specific values for attributes and can perform actions using its methods.\n",
        "\n",
        "4. What is the difference between abstraction and encapsulation\n",
        "   - **Abstraction** hides implementation details and exposes only relevant functionality.\n",
        "   - **Encapsulation** restricts direct access to data by bundling attributes and methods together within a class.\n",
        "\n",
        "5. What are dunder methods in Python\n",
        "  - \"Dunder\" (double underscore) methods like ```__init__(), __str__(), and __add__()``` provide special behaviors in Python, including object construction, string representation, and operator overloading.\n",
        "\n",
        "6. Explain the concept of inheritance in OOP\n",
        "  - Inheritance allows a class (child) to inherit attributes and methods from another class (parent), enabling code reuse and extension.\n",
        "\n",
        "7. What is polymorphism in OOP\n",
        "  - Polymorphism allows different classes to have methods with the same name but different implementations, enabling flexibility in object behavior.\n",
        "\n",
        "8. How is encapsulation achieved in Python\n",
        "  - Encapsulation is achieved using private (__var) and protected (_var) attributes, which restrict access to class internals while using getter/setter methods for controlled modification\n",
        "\n",
        "9. What is a constructor in Python\n",
        "  - A constructor ```__init__()``` is a special method in Python that initializes a new object when a class is instantiated\n",
        "\n",
        "10. What are class and static methods in Python\n",
        "    - Class methods (@classmethod) operate on class attributes and take cls as the first parameter.\n",
        "    - Static methods (@staticmethod) don’t rely on instance or class attributes and behave like regular functions inside a class.\n",
        "\n",
        "11. What is method overloading in Python\n",
        "    - Python does not support traditional method overloading, but you can achieve similar behavior using default arguments or *args/**kwargs in methods.\n",
        "\n",
        "12. What is method overriding in OOP?\n",
        "    - Method overriding allows a subclass to redefine a method from its parent class, providing a new implementation.\n",
        "\n",
        "13. What is a property decorator in Python\n",
        "  - The @property decorator allows getter methods to be accessed like attributes, improving readability and controlling data access.\n",
        "\n",
        "14. Why is polymorphism important in OOP\n",
        "  - Polymorphism improves flexibility, scalability, and code organization, allowing different objects to be used interchangeably in a unified interface.\n",
        "\n",
        "15. What is an abstract class in Python\n",
        "  - An abstract class (defined using ABC and @abstractmethod) enforces method implementation in subclasses, ensuring consistency in behavior\n",
        "\n",
        "16. What are the advantages of OOP\n",
        "    - Code reusability (inheritance)\n",
        "    - Better organization (encapsulation)\n",
        "    - Flexibility (polymorphism)\n",
        "    - Improved maintainability (modular design)\n",
        "\n",
        "\n",
        "17. What is multiple inheritance in Python\n",
        "  - Multiple inheritance in Python allows a class to inherit attributes and methods from more than one parent class, enabling code reuse and flexibility. It is implemented by listing multiple base classes in the class definition, like:\n",
        "  \n",
        "  ``` class Child(Parent1, Parent2):```\n",
        "\n",
        "\n",
        "18. What is the difference between a class variable and an instance variable\n",
        "  - A class variable is shared among all instances of a class and is defined outside methods, whereas an instance variable is unique to each object and is defined inside the __init__() method using self.\n",
        "\n",
        "19. Explain the purpose of ```'__str__' and '__repr__'``` methods in Python\n",
        "\n",
        "  - Both ```__str__() and __repr__()``` are special methods in Python that define how objects are converted into strings. The key difference is their intended audience:\n",
        "\n",
        "|   Method   |   Purpose|\n",
        "  |:------:|:-------|\n",
        "  | __str__() | Provides a user-friendly string representation (for print()). |\n",
        "  | __repr__() | Provides a developer-friendly representation, useful for debugging. |\n",
        "\n",
        "\n",
        "20. What is the significance of the 'super()' function in Python\n",
        "  - The super() function in Python is used for calling methods from a parent class in inheritance. It allows subclasses to access and extend methods from their parent class without directly referencing them.\n",
        "\n",
        "21. What is the significance of the ```__del__``` method in Python\n",
        "  - The ```__del__()``` method is a special method in Python known as the destructor. It is called when an object is about to be destroyed (i.e., garbage collected).\n",
        "  Purpose of ```__del__ method```:\n",
        "  - Automatic cleanup → Helps free up resources like file handles, network connections, or memory allocations.\n",
        "  - Final actions before deletion → Can log information or release external dependencies.\n",
        "  - Garbage collection behavior → When an object goes out of scope or is explicitly deleted using del obj, Python calls ```__del__()```.\n",
        "\n",
        "\n",
        "22. What is the difference between @staticmethod and @classmethod in Python\n",
        "\n",
        "23. How does polymorphism work in Python with inheritance\n",
        "  - Polymorphism in Python allows methods in different classes to have the same name but behave differently. When combined with inheritance, polymorphism enables subclasses to override a method from the parent class while maintaining a consistent interface.\n",
        "  - Let’s say we have a Shape base class, with subclasses Circle and Rectangle, each implementing their own version of area().\n",
        "  \n",
        "\n",
        "\n",
        "24. What is method chaining in Python OOP?\n",
        "  - Method chaining is a technique in Object-Oriented Programming (OOP) where multiple methods are called sequentially on the same object in a single statement. This improves readability and reduces redundant variable assignments.\n",
        "```    \n",
        "\"This is a test to see method chaining in action. \".split(' ').index('method') #Output is 8\n",
        "```\n",
        "\n",
        "25. What is the purpose of the __call__ method in Python?\n",
        "  - In Python, the __call__() method allows an instance of a class to be invoked like a function. This means that when an object is called using parentheses (), the __call__() method is executed.\n",
        "```\n",
        "eg:     def __call__(self, number):\n",
        "        return number * self.factor\n",
        "```\n"
      ],
      "metadata": {
        "id": "qVCECFLSQJBk"
      }
    },
    {
      "cell_type": "markdown",
      "source": [
        "# Practical Questions."
      ],
      "metadata": {
        "id": "eImQCr5yRDhp"
      }
    },
    {
      "cell_type": "code",
      "source": [
        "#1. Create a parent class Animal with a method speak() that prints a generic message. Create a child class Dog\n",
        "#   that overrides the speak() method to print \"Bark!\".\n",
        "\n",
        "class Animal:\n",
        "  def speak(self):\n",
        "    print(\"Animal makes sound!\")\n",
        "\n",
        "class Dog(Animal):\n",
        "  def speak(self):\n",
        "    print(\"Bark!\")\n",
        "\n",
        "d = Dog()\n",
        "d.speak()\n",
        "\n",
        "\n"
      ],
      "metadata": {
        "colab": {
          "base_uri": "https://localhost:8080/"
        },
        "id": "pbzfLj06RC31",
        "outputId": "bce9b5b2-db42-46d4-a8cb-ac5dd4aa40cf"
      },
      "execution_count": 2,
      "outputs": [
        {
          "output_type": "stream",
          "name": "stdout",
          "text": [
            "Bark!\n"
          ]
        }
      ]
    },
    {
      "cell_type": "code",
      "source": [
        "# 2. Write a program to create an abstract class Shape with a method area(). Derive classes Circle and Rectangle\n",
        "#    from it and implement the area() method in both\n",
        "\n",
        "from abc import ABC, abstractmethod\n",
        "\n",
        "class Shape(ABC):\n",
        "\n",
        "  @abstractmethod\n",
        "  def area(self):\n",
        "    pass # Abstract method, must be overridden by subclasses\n",
        "\n",
        "class Circle(Shape):  #Circle Class.\n",
        "  def  __init__(self, radius):\n",
        "    self.__radius = radius\n",
        "\n",
        "  def area(self):   #area function overriding parent class' method.\n",
        "    rad = self.__radius\n",
        "    return 3.14*rad*rad   #using pi as 3.14 for calculation.\n",
        "\n",
        "class Rectangle(Shape):   #Rectangle Class\n",
        "\n",
        "  def  __init__(self, l, b):\n",
        "    self.__length = l\n",
        "    self.__breadth = b\n",
        "\n",
        "  def area(self): #area function overriding parent class' method.\n",
        "    return self.__length* self.__breadth\n",
        "\n",
        "c = Circle(5)\n",
        "print(f\"Area of Circle: {c.area()}\")\n",
        "\n",
        "r=Rectangle(4,2)\n",
        "print(f\"Area of Rectangle: {r.area()}\")\n"
      ],
      "metadata": {
        "colab": {
          "base_uri": "https://localhost:8080/"
        },
        "id": "xR7n_06YR_gr",
        "outputId": "9725748e-d571-4521-d72b-9e6270a8809c"
      },
      "execution_count": 14,
      "outputs": [
        {
          "output_type": "stream",
          "name": "stdout",
          "text": [
            "Area of Circle: 78.5\n",
            "Area of Rectangle: 8\n"
          ]
        }
      ]
    },
    {
      "cell_type": "code",
      "source": [
        "#3. Implement a multi-level inheritance scenario where a class Vehicle has an attribute type. Derive a class Car\n",
        "#   and further derive a class ElectricCar that adds a battery attribute.\n",
        "\n",
        "class Vehicle:\n",
        "  def __init__(self,model, brand, type):\n",
        "    self.model = model\n",
        "    self.brand = brand\n",
        "    self.type = type\n",
        "\n",
        "  def Vehicle_details(self):\n",
        "    print(f\"This is a {self.brand} {self.model} {self.type}.\")\n",
        "\n",
        "class Car(Vehicle):\n",
        "  def __init__(self, model, brand,  type=\"Car\"):\n",
        "    super().__init__(model, brand, type)\n",
        "\n",
        "class ElectricCar(Car):\n",
        "  def __init__(self, model, brand, batterycap, type=\"Electic Car\"):\n",
        "    super().__init__(model, brand, type)\n",
        "    self.batterycap = batterycap    #New Battery attribute.\n",
        "\n",
        "  def Vehicle_details(self):    #overridden function.\n",
        "    print(f\"This is a {self.brand} {self.model} {self.type} with a battery capacity of {self.batterycap} KW.\")\n",
        "\n",
        "v = Vehicle(\"2515\",\"Tata\", \"Truck\")\n",
        "v.Vehicle_details()\n",
        "\n",
        "TC = Car(\"Swift ZDI\",\"Maruti\",\"Hatchback car\")\n",
        "TC.Vehicle_details()\n",
        "\n",
        "ec = ElectricCar(\"V5\",\"Tesla\",6)\n",
        "ec.Vehicle_details()"
      ],
      "metadata": {
        "colab": {
          "base_uri": "https://localhost:8080/"
        },
        "id": "NufKhOquWAec",
        "outputId": "229ab21e-9b8b-4b89-e2f4-ce97a89c4a3a"
      },
      "execution_count": 26,
      "outputs": [
        {
          "output_type": "stream",
          "name": "stdout",
          "text": [
            "This is a Tata 2515 Truck.\n",
            "This is a Maruti Swift ZDI Hatchback car.\n",
            "This is a Tesla V5 Electic Car with a battery capacity of 6 KW.\n"
          ]
        }
      ]
    },
    {
      "cell_type": "code",
      "source": [
        "#4. Demonstrate polymorphism by creating a base class Bird with a method fly(). Create two derived classes\n",
        "#   Sparrow and Penguin that override the fly() method.\n",
        "\n",
        "class Bird:\n",
        "  def fly(self):\n",
        "    print(\"Birds can fly at various altitudes with exceptions.\")\n",
        "\n",
        "class Sparrow(Bird):\n",
        "  def fly(self):\n",
        "    print(\"Sparrows can fly at low altitudes\" )\n",
        "\n",
        "class Penguin(Bird):\n",
        "  def fly(self):\n",
        "    print(\"Penguins can't fly but can Swim\")\n",
        "\n",
        "b = Bird()\n",
        "b.fly()\n",
        "\n",
        "sp = Sparrow()\n",
        "sp.fly()\n",
        "\n",
        "pen = Penguin()\n",
        "pen.fly()"
      ],
      "metadata": {
        "colab": {
          "base_uri": "https://localhost:8080/"
        },
        "id": "jU4Gqn3WRH1a",
        "outputId": "4609a75d-ccf7-44da-e055-0f663be3f0ba"
      },
      "execution_count": 32,
      "outputs": [
        {
          "output_type": "stream",
          "name": "stdout",
          "text": [
            "Birds can fly at various altitudes with exceptions.\n",
            "Sparrows can fly at low altitudes\n",
            "Penguins can't fly but can Swim\n"
          ]
        }
      ]
    },
    {
      "cell_type": "code",
      "source": [
        "#5. Write a program to demonstrate encapsulation by creating a class BankAccount with private attributes\n",
        "#   balance and methods to deposit, withdraw, and check balance.\n",
        "\n",
        "class BankAccount:\n",
        "  def __init__(self, balance=0):\n",
        "    self.__balance = balance\n",
        "\n",
        "  def deposit(self, amount):\n",
        "    if amount > 0:\n",
        "      self.__balance += amount\n",
        "      print(f\"An amount of {amount} has been deposited to your account.\")\n",
        "    else:\n",
        "      print(f\"Amount must be greater than zero in order to deposit.\")\n",
        "\n",
        "  def withdraw(self, amount):\n",
        "    if amount<= self.__balance:\n",
        "      self.__balance -= amount\n",
        "      print(f\"An amount of {amount} has been withdrawn from your account.\")\n",
        "    else:\n",
        "      print(f\"Insufficient balance to withdraw this amount.\")\n",
        "\n",
        "  def checkBalance(self):\n",
        "    print(f\"Your account balance is {self.__balance}\")\n",
        "\n",
        "myAct = BankAccount(1000)\n",
        "myAct.checkBalance()    # Your account balance is 1000\n",
        "myAct.deposit(1000)     # An amount of 1000 has been deposited to your account.\n",
        "myAct.withdraw(500)     # An amount of 500 has been withdrawn from your account.\n",
        "myAct.checkBalance()    # Your account balance is 1500"
      ],
      "metadata": {
        "colab": {
          "base_uri": "https://localhost:8080/"
        },
        "id": "kr-wU2Osd6ke",
        "outputId": "14dc4bd1-9fe0-4a3f-b503-25b0720b4973"
      },
      "execution_count": 52,
      "outputs": [
        {
          "output_type": "stream",
          "name": "stdout",
          "text": [
            "Your account balance is 1000\n",
            "An amount of 1000 has been deposited to your account.\n",
            "An amount of 500 has been withdrawn from your account.\n",
            "Your account balance is 1500\n"
          ]
        }
      ]
    },
    {
      "cell_type": "code",
      "source": [
        "#6. Demonstrate runtime polymorphism using a method play() in a base class Instrument. Derive classes Guitar\n",
        "#   and Piano that implement their own version of play().\n",
        "\n",
        "class Instrument:\n",
        "  def play():\n",
        "    pass\n",
        "\n",
        "class Guitar(Instrument):\n",
        "  def play(self):\n",
        "    print(\"Playing a string instrument like Guitar can be challenging at the beginning but rewarding at the end.\")\n",
        "\n",
        "class Piano(Instrument):\n",
        "  def play(self):\n",
        "    print(\"Piano playing is easy and can be very welcoming for any music lover / starter.\")\n",
        "\n",
        "def playing(instrument: Instrument):    #runtime polymorphism implementation calling method play() at runtime based on child classes..\n",
        "  instrument.play()\n",
        "\n",
        "\n",
        "guitar = Guitar()\n",
        "playing(guitar)\n",
        "\n",
        "piano = Piano()\n",
        "playing(piano)\n"
      ],
      "metadata": {
        "colab": {
          "base_uri": "https://localhost:8080/"
        },
        "id": "fy7PZcFAiqHj",
        "outputId": "1cd6a068-180f-4b82-b96e-af82cd886733"
      },
      "execution_count": 57,
      "outputs": [
        {
          "output_type": "stream",
          "name": "stdout",
          "text": [
            "Playing a string instrument like Guitar can be challenging at the beginning but rewarding at the end.\n",
            "Piano playing is easy and can be very welcoming for any music lover / starter.\n"
          ]
        }
      ]
    },
    {
      "cell_type": "code",
      "source": [
        "from typing_extensions import Self\n",
        "#7. Create a class MathOperations with a class method add_numbers() to add two numbers and a static\n",
        "#   method subtract_numbers() to subtract two numbers.\n",
        "\n",
        "class MathOperations:\n",
        "  @classmethod\n",
        "  def add_numbers(cls, x,y):    #Class method should take parameters\n",
        "    return x+y\n",
        "\n",
        "  @staticmethod\n",
        "  def subtract_numbers(x,y):    #staic method should take parameters\n",
        "    return x - y\n",
        "\n",
        "\n",
        "mops = MathOperations()\n",
        "print(MathOperations.add_numbers(5,5))    #Calling Class method\n",
        "print(MathOperations.subtract_numbers(18,9))    # Calling Static Method"
      ],
      "metadata": {
        "colab": {
          "base_uri": "https://localhost:8080/"
        },
        "id": "lAefwtvuliRz",
        "outputId": "5f43c9f7-7e71-4ea7-dea6-429c9d9bc661"
      },
      "execution_count": 72,
      "outputs": [
        {
          "output_type": "stream",
          "name": "stdout",
          "text": [
            "10\n",
            "9\n"
          ]
        }
      ]
    },
    {
      "cell_type": "code",
      "source": [
        "#8. Implement a class Person with a class method to count the total number of persons created.\n",
        "\n",
        "class Person:\n",
        "  persons =0    #Class Attribute\n",
        "  def __init__(self):\n",
        "    Person.persons +=1\n",
        "\n",
        "  @classmethod\n",
        "  def countPersons(cls):    # Class method to access class attribute\n",
        "    print(f\"Total of {cls.persons} persons created.\")\n",
        "\n",
        "for i in range(1,10):\n",
        "  pi = Person()\n",
        "\n",
        "Person.countPersons() # Output: Total of 9 persons created.\n",
        ""
      ],
      "metadata": {
        "colab": {
          "base_uri": "https://localhost:8080/"
        },
        "id": "LeOCW3XsrFs7",
        "outputId": "d3e3c8c0-bfca-40c0-bb41-bb2df362eab6"
      },
      "execution_count": 78,
      "outputs": [
        {
          "output_type": "stream",
          "name": "stdout",
          "text": [
            "Total of 9 persons created.\n"
          ]
        }
      ]
    },
    {
      "cell_type": "code",
      "source": [
        "#9. Write a class Fraction with attributes numerator and denominator. Override the str method to display the\n",
        "#   fraction as \"numerator/denominator\".\n",
        "\n",
        "class Fraction:\n",
        "  def __init__(self, num,den):\n",
        "    self.numerator = num\n",
        "    self.denominator = den\n",
        "\n",
        "  def __str__(self):      #Overriding the str method to print the num /denom format when printing obj instead of \"<__main__.Fraction object at 0x79f4805e9b10>\"\n",
        "    return(f\"{self.numerator}/{self.denominator}\")\n",
        "\n",
        "\n",
        "fr = Fraction(11,5)\n",
        "print(fr)"
      ],
      "metadata": {
        "colab": {
          "base_uri": "https://localhost:8080/"
        },
        "id": "7oUqZHIqtJfU",
        "outputId": "f45ba55f-314c-4a62-a5bc-0af9eda3513a"
      },
      "execution_count": 84,
      "outputs": [
        {
          "output_type": "stream",
          "name": "stdout",
          "text": [
            "11/5\n"
          ]
        }
      ]
    },
    {
      "cell_type": "code",
      "source": [
        "#10. Demonstrate operator overloading by creating a class Vector and overriding the add method to add two\n",
        "#   vectors.\n",
        "\n",
        "class Vector:\n",
        "  def __init__(self,x,y):\n",
        "    self.x = x\n",
        "    self.y = y\n",
        "  def __add__(self, other):   #passing only 1 more parameter\n",
        "    return Vector(self.x + other.x,self.y + other.y)\n",
        "\n",
        "  def __str__(self):    #Overriding the __str__ function - String representation for printing\n",
        "    return f\"Vector({self.x},{self.y})\"\n",
        "\n",
        "v1 = Vector(8,17)\n",
        "v2 = Vector(3,-7)\n",
        "\n",
        "result = v1 + v2\n",
        "print(result)\n",
        "\n"
      ],
      "metadata": {
        "colab": {
          "base_uri": "https://localhost:8080/"
        },
        "id": "vz25PPrAtQx2",
        "outputId": "76be24b9-59c4-439e-ec40-5d48628ba3c4"
      },
      "execution_count": 101,
      "outputs": [
        {
          "output_type": "stream",
          "name": "stdout",
          "text": [
            "Vector(11,10)\n"
          ]
        }
      ]
    },
    {
      "cell_type": "code",
      "source": [
        "#11. Create a class Person with attributes name and age. Add a method greet() that prints \"Hello, my name is\n",
        "#   {name} and I am {age} years old.\"\n",
        "\n",
        "class Person:\n",
        "  def __init__(self,name, age):\n",
        "    self.name = name\n",
        "    self.age = age\n",
        "\n",
        "  def greet(self):\n",
        "    print(f\"Hello, my name is {self.name} and I am {self.age} years old.\")\n",
        "\n",
        "\n",
        "p1 = Person(\"Shyam\",46)\n",
        "p1.greet()\n"
      ],
      "metadata": {
        "colab": {
          "base_uri": "https://localhost:8080/"
        },
        "id": "Slty64b-yRc8",
        "outputId": "abcabf8c-e9fb-44ae-a85d-ae2dad3a842c"
      },
      "execution_count": 103,
      "outputs": [
        {
          "output_type": "stream",
          "name": "stdout",
          "text": [
            "Hello, my name is Shyam and I am 46 years old.\n"
          ]
        }
      ]
    },
    {
      "cell_type": "code",
      "source": [
        "#12. Implement a class Student with attributes name and grades. Create a method average_grade() to compute\n",
        "# the average of the grades.\n",
        "\n",
        "class Student:\n",
        "  def __init__(self, name, grades):\n",
        "    self.name = name\n",
        "    self.grades = grades\n",
        "\n",
        "  def average_grades(self):\n",
        "    print(\"Your grade average is \", sum(self.grades)/len(self.grades) )\n",
        "\n",
        "\n",
        "st = Student('Shyam',[100,95,99,98,97])\n",
        "st.average_grades()"
      ],
      "metadata": {
        "colab": {
          "base_uri": "https://localhost:8080/"
        },
        "id": "r70sklSOzAOM",
        "outputId": "7336dfc0-4790-47d4-b494-f7f02ed70b4a"
      },
      "execution_count": 111,
      "outputs": [
        {
          "output_type": "stream",
          "name": "stdout",
          "text": [
            "Your grade average is  97.8\n"
          ]
        }
      ]
    },
    {
      "cell_type": "code",
      "source": [
        "#13. Create a class Rectangle with methods set_dimensions() to set the dimensions and area() to calculate the\n",
        "# area.\n",
        "\n",
        "class Rectangle:\n",
        "  def __init__(self):\n",
        "    self.__length = 0\n",
        "    self.__breadth = 0\n",
        "\n",
        "  def set_dimensions(self,l, b):\n",
        "    self.__length = l\n",
        "    self.__breadth = b\n",
        "\n",
        "\n",
        "  @property\n",
        "  def area(self):\n",
        "    return self.__length * self.__breadth\n",
        "\n",
        "r = Rectangle()\n",
        "r.set_dimensions(26,4)\n",
        "print(\"The are of the rectangle is: \",r.area)\n",
        "\n"
      ],
      "metadata": {
        "colab": {
          "base_uri": "https://localhost:8080/"
        },
        "id": "OD6PVv7-zEnr",
        "outputId": "356dbd8e-172b-4479-b285-1d3ffa220bd6"
      },
      "execution_count": 118,
      "outputs": [
        {
          "output_type": "stream",
          "name": "stdout",
          "text": [
            "The are of the rectangle is:  104\n"
          ]
        }
      ]
    },
    {
      "cell_type": "code",
      "source": [
        "#14. Create a class Employee with a method calculate_salary() that computes the salary based on hours worked\n",
        "# and hourly rate. Create a derived class Manager that adds a bonus to the salary\n",
        "\n",
        "class Employee:\n",
        "  def __init__(self,hours_worked, hourly_rate):\n",
        "    self.hours_worked = hours_worked\n",
        "    self.hourly_rate = hourly_rate\n",
        "\n",
        "  def calculate_salary(self):\n",
        "    return self.hourly_rate * self.hours_worked\n",
        "\n",
        "\n",
        "class Manager(Employee):\n",
        "  def __init__(self, hours_worked, hourly_rate, bonus):\n",
        "    super().__init__(hours_worked, hourly_rate)\n",
        "    self.bonus = bonus\n",
        "\n",
        "  def calculate_salary(self):\n",
        "    return super().calculate_salary() + self.bonus\n",
        "\n",
        "\n",
        "\n",
        "emp = Employee(45,1200)\n",
        "mgr = Manager(45,2500,25000)\n",
        "\n",
        "print(f\"You salary is :\", emp.calculate_salary())\n",
        "print(f\"You salary is :\", mgr.calculate_salary())"
      ],
      "metadata": {
        "colab": {
          "base_uri": "https://localhost:8080/"
        },
        "id": "Qij8c-WwzETC",
        "outputId": "431be5c9-05d2-4f52-c0a9-a4e9fa4833ee"
      },
      "execution_count": 127,
      "outputs": [
        {
          "output_type": "stream",
          "name": "stdout",
          "text": [
            "You salary is : 54000\n",
            "You salary is : 137500\n"
          ]
        }
      ]
    }
  ]
}